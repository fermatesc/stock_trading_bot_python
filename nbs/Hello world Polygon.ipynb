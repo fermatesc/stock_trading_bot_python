{
 "cells": [
  {
   "cell_type": "code",
   "execution_count": null,
   "id": "b6d8ae5a-1fca-403b-ade3-b747779e34a2",
   "metadata": {},
   "outputs": [],
   "source": [
    "from decouple import config"
   ]
  }
 ],
 "metadata": {
  "kernelspec": {
   "display_name": "Python 3 (ipykernel)",
   "language": "python",
   "name": "python3"
  },
  "language_info": {
   "codemirror_mode": {
    "name": "ipython",
    "version": 3
   },
   "file_extension": ".py",
   "mimetype": "text/x-python",
   "name": "python",
   "nbconvert_exporter": "python",
   "pygments_lexer": "ipython3",
   "version": "3.13.1"
  }
 },
 "nbformat": 4,
 "nbformat_minor": 5
}
