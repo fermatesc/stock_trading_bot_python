{
 "cells": [
  {
   "cell_type": "code",
   "execution_count": 2,
   "id": "b6d8ae5a-1fca-403b-ade3-b747779e34a2",
   "metadata": {},
   "outputs": [],
   "source": [
    "from decouple import config"
   ]
  },
  {
   "cell_type": "code",
   "execution_count": 3,
   "id": "c28273db",
   "metadata": {},
   "outputs": [],
   "source": [
    "assert config('POLYGON_API_KEY', default=None, cast=str) is not None\n"
   ]
  },
  {
   "cell_type": "code",
   "execution_count": 4,
   "id": "bb63c7a5",
   "metadata": {},
   "outputs": [],
   "source": [
    "POLYGON_API_KEY = config('POLYGON_API_KEY', default=None, cast=str)"
   ]
  },
  {
   "cell_type": "code",
   "execution_count": 5,
   "id": "de93ce12",
   "metadata": {},
   "outputs": [
    {
     "name": "stdout",
     "output_type": "stream",
     "text": [
      "{'ticker': 'AAPL', 'queryCount': 1, 'resultsCount': 1, 'adjusted': True, 'results': [{'v': 70790813.0, 'vw': 131.6292, 'o': 130.465, 'c': 130.15, 'h': 133.41, 'l': 129.89, 't': 1673240400000, 'n': 645365}], 'status': 'OK', 'request_id': '8016f1e4541bca4a2c37c8b475286960', 'count': 1}\n"
     ]
    }
   ],
   "source": [
    "import requests\n",
    "\n",
    "ticker = 'AAPL'\n",
    "multiplier = \"1\"\n",
    "timespan = \"day\"\n",
    "from_date = \"2023-01-09\"\n",
    "to_date = \"2023-01-09\"\n",
    "path = 'v2/aggs/ticker/{ticker}/range/{multiplier}/{timespan}/{from_date}/{to_date}?apiKey={POLYGON_API_KEY}'\n",
    "\n",
    "url = f\"https://api.polygon.io/{path}?apiKey={POLYGON_API_KEY}\"\n",
    "response = requests.get(url)\n",
    "\n",
    "data = response.json()\n",
    "print(data['ticker'])\n"
   ]
  },
  {
   "cell_type": "code",
   "execution_count": 1,
   "id": "41d1015e",
   "metadata": {},
   "outputs": [],
   "source": [
    "url2 = \"https://api.polygon.io/v2/aggs/ticker/AAPL/range/1/day/2023-01-09/2023-02-10?adjusted=true&sort=asc&apiKey=PtcqMNtGqAQyFqsZyyVhM4ecncCnE8ew\""
   ]
  },
  {
   "cell_type": "code",
   "execution_count": null,
   "id": "b6cdfb60",
   "metadata": {},
   "outputs": [],
   "source": []
  }
 ],
 "metadata": {
  "kernelspec": {
   "display_name": "Python 3 (ipykernel)",
   "language": "python",
   "name": "python3"
  },
  "language_info": {
   "codemirror_mode": {
    "name": "ipython",
    "version": 3
   },
   "file_extension": ".py",
   "mimetype": "text/x-python",
   "name": "python",
   "nbconvert_exporter": "python",
   "pygments_lexer": "ipython3",
   "version": "3.13.1"
  }
 },
 "nbformat": 4,
 "nbformat_minor": 5
}
