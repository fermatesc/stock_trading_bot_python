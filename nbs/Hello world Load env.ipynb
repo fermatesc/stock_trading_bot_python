{
 "cells": [
  {
   "cell_type": "code",
   "execution_count": 1,
   "id": "b6d8ae5a-1fca-403b-ade3-b747779e34a2",
   "metadata": {},
   "outputs": [],
   "source": [
    "from decouple import config"
   ]
  },
  {
   "cell_type": "code",
   "execution_count": 4,
   "id": "cfceff71",
   "metadata": {},
   "outputs": [],
   "source": [
    "assert config('ALPHA_VATAGE_API_KEY', default=None, cast=str) is not None\n"
   ]
  },
  {
   "cell_type": "code",
   "execution_count": 5,
   "id": "c28273db",
   "metadata": {},
   "outputs": [],
   "source": [
    "assert config('POLYGON_API_KEY', default=None, cast=str) is not None\n"
   ]
  }
 ],
 "metadata": {
  "kernelspec": {
   "display_name": "Python 3 (ipykernel)",
   "language": "python",
   "name": "python3"
  },
  "language_info": {
   "codemirror_mode": {
    "name": "ipython",
    "version": 3
   },
   "file_extension": ".py",
   "mimetype": "text/x-python",
   "name": "python",
   "nbconvert_exporter": "python",
   "pygments_lexer": "ipython3",
   "version": "3.13.1"
  }
 },
 "nbformat": 4,
 "nbformat_minor": 5
}
