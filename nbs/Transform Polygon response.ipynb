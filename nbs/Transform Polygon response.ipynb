{
 "cells": [
  {
   "cell_type": "code",
   "execution_count": 11,
   "id": "b6d8ae5a-1fca-403b-ade3-b747779e34a2",
   "metadata": {},
   "outputs": [],
   "source": [
    "from decouple import config\n",
    "from datetime import datetime\n"
   ]
  },
  {
   "cell_type": "code",
   "execution_count": 12,
   "id": "c28273db",
   "metadata": {},
   "outputs": [],
   "source": [
    "assert config('POLYGON_API_KEY', default=None, cast=str) is not None\n"
   ]
  },
  {
   "cell_type": "code",
   "execution_count": 13,
   "id": "bb63c7a5",
   "metadata": {},
   "outputs": [],
   "source": [
    "POLYGON_API_KEY = config('POLYGON_API_KEY', default=None, cast=str)"
   ]
  },
  {
   "cell_type": "code",
   "execution_count": 14,
   "id": "41d1015e",
   "metadata": {},
   "outputs": [],
   "source": [
    "url2 = \"https://api.polygon.io/v2/aggs/ticker/AAPL/range/1/day/2023-01-09/2023-02-10?adjusted=true&sort=asc&apiKey=PtcqMNtGqAQyFqsZyyVhM4ecncCnE8ew\""
   ]
  },
  {
   "cell_type": "code",
   "execution_count": 23,
   "id": "de93ce12",
   "metadata": {},
   "outputs": [],
   "source": [
    "import requests\n",
    "\n",
    "ticker = 'AAPL'\n",
    "multiplier = \"1\"\n",
    "timespan = \"day\"\n",
    "from_date = \"2023-01-09\"\n",
    "to_date = \"2023-01-10\"\n",
    "path = f'v2/aggs/ticker/{ticker}/range/{multiplier}/{timespan}/{from_date}/{to_date}?apiKey={POLYGON_API_KEY}'\n",
    "\n",
    "url = f\"https://api.polygon.io/{path}\"\n",
    "response = requests.get(url)\n",
    "\n",
    "data = response.json()\n",
    "# print(data['ticker'])\n"
   ]
  },
  {
   "cell_type": "code",
   "execution_count": 29,
   "id": "b6cdfb60",
   "metadata": {},
   "outputs": [],
   "source": [
    "result = data['results'][0]\n"
   ]
  },
  {
   "cell_type": "code",
   "execution_count": 36,
   "id": "6e86be72",
   "metadata": {},
   "outputs": [
    {
     "name": "stdout",
     "output_type": "stream",
     "text": [
      "2023-01-09 05:00:00+00:00\n"
     ]
    },
    {
     "data": {
      "text/plain": [
       "{'date': 1673240400000,\n",
       " 'open_price': 130.465,\n",
       " 'close_price': 130.15,\n",
       " 'high_price': 133.41,\n",
       " 'low_price': 129.89,\n",
       " 'number_of_transactions': 645365,\n",
       " 'volume': 70790813.0,\n",
       " 'volume_weighted_average': 131.6292,\n",
       " 'time': datetime.datetime(2023, 1, 9, 5, 0, tzinfo=<UTC>)}"
      ]
     },
     "execution_count": 36,
     "metadata": {},
     "output_type": "execute_result"
    }
   ],
   "source": [
    "import pytz\n",
    "from datetime import datetime\n",
    "def transform_polygon_result(result):\n",
    "    unix_timestamp = datetime.fromtimestamp(result['t'] / 1000, tz=pytz.timezone('UTC'))\n",
    "    # print(unix_timestamp)\n",
    "    return {\n",
    "        'date': result['t'],\n",
    "        'open_price': result['o'],\n",
    "        'close_price': result['c'],\n",
    "        'high_price': result['h'],\n",
    "        'low_price': result['l'],        \n",
    "        \"number_of_transactions\": result['n'],\n",
    "        'volume': result['v'],\n",
    "        \"volume_weighted_average\": result['vw'],\n",
    "        \"time\": unix_timestamp\n",
    "    }\n",
    "\n",
    "transform_polygon_result(result)\n"
   ]
  }
 ],
 "metadata": {
  "kernelspec": {
   "display_name": "Python 3 (ipykernel)",
   "language": "python",
   "name": "python3"
  },
  "language_info": {
   "codemirror_mode": {
    "name": "ipython",
    "version": 3
   },
   "file_extension": ".py",
   "mimetype": "text/x-python",
   "name": "python",
   "nbconvert_exporter": "python",
   "pygments_lexer": "ipython3",
   "version": "3.13.1"
  }
 },
 "nbformat": 4,
 "nbformat_minor": 5
}
